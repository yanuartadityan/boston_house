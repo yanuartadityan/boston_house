{
 "cells": [
  {
   "cell_type": "markdown",
   "metadata": {},
   "source": [
    "# EDA Boston House Price\n",
    "\n",
    "----\n",
    "\n",
    "### Table of Contents\n",
    "\n",
    "1. [Introduction to the Dataset & Features](#introduction)\n",
    "2. [Loading the Dataset](#load)\n",
    "3. [Understand the Dataset](#understand)\n",
    "4. [Understand the Datatypes](#dtypes)\n",
    "5. [Visualizing the DV and IVs](#vis1)\n",
    "6. [Calculate SST](#sst)\n",
    "7. [SST vs SSR vs SSE](#SSTSSRSSE)\n",
    "8. [Finding the Best Feature 1](#best_feat)"
   ]
  },
  {
   "cell_type": "markdown",
   "metadata": {},
   "source": [
    "### Introduction & Features <a name=\"introduction\"></a>\n",
    "\n",
    "A project for learning few optimal solutions to predict housing prices using Boston Housing Prices, uses supervised learning with multilinear regression (not to be confused with multivariate regression). The provided data by the SKLearn (Boston House) is rather clean and fit for purpose of learning. In practices, there might be a big chance that the data is less useful and preprocessing is rather needed. This project shall not focus on preprocessing such as, interpolate missing values, etc.\n",
    "\n",
    "There are 13 features are gonna be used according to the database which you can find further details from [here](https://www.kaggle.com/c/boston-housing) and how to load it with SKLearn from [here](http://scikit-learn.org/stable/modules/generated/sklearn.datasets.load_boston.html#sklearn.datasets.load_boston).\n",
    "\n",
    "(As quoted from the DESCR attributes of the dataset) All attribute Information in order are:\n",
    "* CRIM     per capita crime rate by town\n",
    "* ZN       proportion of residential land zoned for lots over 25,000 sq.ft.\n",
    "* INDUS    proportion of non-retail business acres per town\n",
    "* CHAS     Charles River dummy variable (= 1 if tract bounds river; 0 otherwise)\n",
    "* NOX      nitric oxides concentration (parts per 10 million)\n",
    "* RM       average number of rooms per dwelling\n",
    "* AGE      proportion of owner-occupied units built prior to 1940\n",
    "* DIS      weighted distances to five Boston employment centres\n",
    "* RAD      index of accessibility to radial highways\n",
    "* TAX      full-value property-tax rate per USD 10,000\n",
    "* PTRATIO  pupil-teacher ratio by town\n",
    "* B        1000(Bk - 0.63)^2 where Bk is the proportion of blacks by town\n",
    "* LSTAT    Lower status of the population\n",
    "* MEDV     Median value of owner-occupied homes in USD 1000's\n",
    "\n",
    "In the project, each I.V. features versus D.V. correlations will be evaluated to see how relevant they are to build the best predictor. "
   ]
  },
  {
   "cell_type": "markdown",
   "metadata": {},
   "source": [
    "### Loading the Dataset <a name=\"load\"></a>\n",
    "\n",
    "The dataset is available through [Kaggle](www.kaggle.com) but since we're gonna use [SKLearn](http://scikit-learn.org/stable/modules/generated/sklearn.datasets.load_boston.html#sklearn.datasets.load_boston) anyway, so I picked the latter."
   ]
  },
  {
   "cell_type": "code",
   "execution_count": 24,
   "metadata": {
    "collapsed": true
   },
   "outputs": [],
   "source": [
    "import numpy as np\n",
    "import pandas as pd\n",
    "\n",
    "# plotting\n",
    "import seaborn as sns\n",
    "import matplotlib.pyplot as plt\n",
    "import plotly.plotly as py\n",
    "from plotly.graph_objs import *\n",
    "\n",
    "# scikit-learn\n",
    "from sklearn.datasets import load_boston\n",
    "\n",
    "# matplotlib inline\n",
    "%matplotlib inline"
   ]
  },
  {
   "cell_type": "markdown",
   "metadata": {},
   "source": [
    "### Understand the Dataset <a name=\"understand\"></a>\n",
    "\n",
    "Make sure you understand what informations are provided by the dataset. Read through all the definitions of the features and the target (outcome). Since I will use Pandas as dataframe for most of the data, we need to build the dataframe as the first step. Make sure to visualize it in a good way in such you get the big picture of how the data looks like."
   ]
  },
  {
   "cell_type": "code",
   "execution_count": 25,
   "metadata": {},
   "outputs": [
    {
     "data": {
      "text/html": [
       "<div>\n",
       "<style>\n",
       "    .dataframe thead tr:only-child th {\n",
       "        text-align: right;\n",
       "    }\n",
       "\n",
       "    .dataframe thead th {\n",
       "        text-align: left;\n",
       "    }\n",
       "\n",
       "    .dataframe tbody tr th {\n",
       "        vertical-align: top;\n",
       "    }\n",
       "</style>\n",
       "<table border=\"1\" class=\"dataframe\">\n",
       "  <thead>\n",
       "    <tr style=\"text-align: right;\">\n",
       "      <th></th>\n",
       "      <th>CRIM</th>\n",
       "      <th>ZN</th>\n",
       "      <th>INDUS</th>\n",
       "      <th>CHAS</th>\n",
       "      <th>NOX</th>\n",
       "      <th>RM</th>\n",
       "      <th>AGE</th>\n",
       "      <th>DIS</th>\n",
       "      <th>RAD</th>\n",
       "      <th>TAX</th>\n",
       "      <th>PTRATIO</th>\n",
       "      <th>B</th>\n",
       "      <th>LSTAT</th>\n",
       "      <th>HOPRICE</th>\n",
       "    </tr>\n",
       "  </thead>\n",
       "  <tbody>\n",
       "    <tr>\n",
       "      <th>0</th>\n",
       "      <td>0.00632</td>\n",
       "      <td>18.0</td>\n",
       "      <td>2.31</td>\n",
       "      <td>0.0</td>\n",
       "      <td>0.538</td>\n",
       "      <td>6.575</td>\n",
       "      <td>65.2</td>\n",
       "      <td>4.0900</td>\n",
       "      <td>1.0</td>\n",
       "      <td>296.0</td>\n",
       "      <td>15.3</td>\n",
       "      <td>396.90</td>\n",
       "      <td>4.98</td>\n",
       "      <td>24.0</td>\n",
       "    </tr>\n",
       "    <tr>\n",
       "      <th>1</th>\n",
       "      <td>0.02731</td>\n",
       "      <td>0.0</td>\n",
       "      <td>7.07</td>\n",
       "      <td>0.0</td>\n",
       "      <td>0.469</td>\n",
       "      <td>6.421</td>\n",
       "      <td>78.9</td>\n",
       "      <td>4.9671</td>\n",
       "      <td>2.0</td>\n",
       "      <td>242.0</td>\n",
       "      <td>17.8</td>\n",
       "      <td>396.90</td>\n",
       "      <td>9.14</td>\n",
       "      <td>21.6</td>\n",
       "    </tr>\n",
       "    <tr>\n",
       "      <th>2</th>\n",
       "      <td>0.02729</td>\n",
       "      <td>0.0</td>\n",
       "      <td>7.07</td>\n",
       "      <td>0.0</td>\n",
       "      <td>0.469</td>\n",
       "      <td>7.185</td>\n",
       "      <td>61.1</td>\n",
       "      <td>4.9671</td>\n",
       "      <td>2.0</td>\n",
       "      <td>242.0</td>\n",
       "      <td>17.8</td>\n",
       "      <td>392.83</td>\n",
       "      <td>4.03</td>\n",
       "      <td>34.7</td>\n",
       "    </tr>\n",
       "    <tr>\n",
       "      <th>3</th>\n",
       "      <td>0.03237</td>\n",
       "      <td>0.0</td>\n",
       "      <td>2.18</td>\n",
       "      <td>0.0</td>\n",
       "      <td>0.458</td>\n",
       "      <td>6.998</td>\n",
       "      <td>45.8</td>\n",
       "      <td>6.0622</td>\n",
       "      <td>3.0</td>\n",
       "      <td>222.0</td>\n",
       "      <td>18.7</td>\n",
       "      <td>394.63</td>\n",
       "      <td>2.94</td>\n",
       "      <td>33.4</td>\n",
       "    </tr>\n",
       "    <tr>\n",
       "      <th>4</th>\n",
       "      <td>0.06905</td>\n",
       "      <td>0.0</td>\n",
       "      <td>2.18</td>\n",
       "      <td>0.0</td>\n",
       "      <td>0.458</td>\n",
       "      <td>7.147</td>\n",
       "      <td>54.2</td>\n",
       "      <td>6.0622</td>\n",
       "      <td>3.0</td>\n",
       "      <td>222.0</td>\n",
       "      <td>18.7</td>\n",
       "      <td>396.90</td>\n",
       "      <td>5.33</td>\n",
       "      <td>36.2</td>\n",
       "    </tr>\n",
       "  </tbody>\n",
       "</table>\n",
       "</div>"
      ],
      "text/plain": [
       "      CRIM    ZN  INDUS  CHAS    NOX     RM   AGE     DIS  RAD    TAX  \\\n",
       "0  0.00632  18.0   2.31   0.0  0.538  6.575  65.2  4.0900  1.0  296.0   \n",
       "1  0.02731   0.0   7.07   0.0  0.469  6.421  78.9  4.9671  2.0  242.0   \n",
       "2  0.02729   0.0   7.07   0.0  0.469  7.185  61.1  4.9671  2.0  242.0   \n",
       "3  0.03237   0.0   2.18   0.0  0.458  6.998  45.8  6.0622  3.0  222.0   \n",
       "4  0.06905   0.0   2.18   0.0  0.458  7.147  54.2  6.0622  3.0  222.0   \n",
       "\n",
       "   PTRATIO       B  LSTAT  HOPRICE  \n",
       "0     15.3  396.90   4.98     24.0  \n",
       "1     17.8  396.90   9.14     21.6  \n",
       "2     17.8  392.83   4.03     34.7  \n",
       "3     18.7  394.63   2.94     33.4  \n",
       "4     18.7  396.90   5.33     36.2  "
      ]
     },
     "execution_count": 25,
     "metadata": {},
     "output_type": "execute_result"
    }
   ],
   "source": [
    "# load\n",
    "boston = load_boston()\n",
    "\n",
    "# build the dataframe for all I.Vs (boston['data']) or boston.data\n",
    "df_boston_data = pd.DataFrame(boston['data'], columns=boston['feature_names'])\n",
    "\n",
    "# concatenate the D.V (boston['target']) and name id 'HOPRICE'\n",
    "df_boston_data['HOPRICE'] = pd.Series(boston['target'])\n",
    "df_boston_data.head()"
   ]
  },
  {
   "cell_type": "markdown",
   "metadata": {},
   "source": [
    "Now we see **HOPRICE** is part of the dataset and we're good to go. Remember, in the real-world data, we mostly will encounter significantly more random data and you would likely need a lot of preprocessing before you see the same structure as shown above.\n",
    "\n",
    "### Understand the Datatypes <a name=\"dtypes\"></a>\n",
    "\n",
    "Pandas is capable of easily giving us informations on each features datatype. DataFrame will infer automatically the datatypes and what we're gonna do is to see their types. What we want from this step is to differentiate their types according to the proper statistic types as explained in [here](https://en.wikipedia.org/wiki/Statistical_data_type). As we see below, everything are neither Categorical or Binary, but instead, all are continuous values and as expected the **HOPRICE** itself is not a Categorical thus we're not gonna do any Logistic Regression to create our best fit as Linear Regression (hopefully) will sufficient."
   ]
  },
  {
   "cell_type": "code",
   "execution_count": 26,
   "metadata": {},
   "outputs": [
    {
     "data": {
      "text/plain": [
       "CRIM       float64\n",
       "ZN         float64\n",
       "INDUS      float64\n",
       "CHAS       float64\n",
       "NOX        float64\n",
       "RM         float64\n",
       "AGE        float64\n",
       "DIS        float64\n",
       "RAD        float64\n",
       "TAX        float64\n",
       "PTRATIO    float64\n",
       "B          float64\n",
       "LSTAT      float64\n",
       "HOPRICE    float64\n",
       "dtype: object"
      ]
     },
     "execution_count": 26,
     "metadata": {},
     "output_type": "execute_result"
    }
   ],
   "source": [
    "df_boston_data.dtypes"
   ]
  },
  {
   "cell_type": "markdown",
   "metadata": {},
   "source": [
    "\n",
    "### Start Visualizing D.V without any inputting I.Vs. <a name=\"vis1\"></a>\n",
    "\n",
    "We ought to visualize the relation between I.Vs (all features) to the D.V to see how significant their impacts to the D.V. That can be done by manually visualizing them and see a pattern that can be fit by our model, which in this case Linear Regression best fit model. However, let's visualize the **HOPRICE** alone and see how we will see the best fit naturally using **Mean** of the data.\n",
    "\n",
    "To give a better understanding, an equation for linear line is given by:\n",
    "\n",
    "$$ f(x) = mx + b + e$$\n",
    "\n",
    "Given the linear equation, *m* is the slope or gradient, or later will be addressed as *coefficient* and *b* is the y-interceptor and residual error as *e*. If there's no valid *x* variables and no residual error, then best fit line would be:\n",
    "\n",
    "$$ f(0) = b $$\n",
    "\n",
    "This is saying that the most basic way to estimate house price without an independent variable is to start with the *b* which in most cases interpreted as the *mean* values. Here let's calculate the mean value of **HOPRICE** and plot. "
   ]
  },
  {
   "cell_type": "code",
   "execution_count": 27,
   "metadata": {},
   "outputs": [
    {
     "data": {
      "text/plain": [
       "22.532806324110698"
      ]
     },
     "execution_count": 27,
     "metadata": {},
     "output_type": "execute_result"
    }
   ],
   "source": [
    "# calculate mean\n",
    "m_hoprice = df_boston_data['HOPRICE'].mean()\n",
    "m_hoprice"
   ]
  },
  {
   "cell_type": "markdown",
   "metadata": {},
   "source": [
    "\n",
    "Since we're gonna do a lot of visualizations, picking best plotting API is important. Here, best option is to use [Seaborn](https://seaborn.pydata.org/) for correlation plot and but for interactive plot, one of the alternative is [Plotly](https://plot.ly/python/). I will try to use both and later, will use Seaborn more often than others since it is specifically purposed for statistical data visualization.\n",
    "\n"
   ]
  },
  {
   "cell_type": "code",
   "execution_count": 28,
   "metadata": {},
   "outputs": [
    {
     "data": {
      "text/html": [
       "<iframe id=\"igraph\" scrolling=\"no\" style=\"border:none;\" seamless=\"seamless\" src=\"https://plot.ly/~yanuart.adityan/8.embed\" height=\"525px\" width=\"100%\"></iframe>"
      ],
      "text/plain": [
       "<plotly.tools.PlotlyDisplay object>"
      ]
     },
     "execution_count": 28,
     "metadata": {},
     "output_type": "execute_result"
    }
   ],
   "source": [
    "\"\"\"PLOTLY.js\"\"\"\n",
    "\n",
    "# scatter plots for housing prices\n",
    "trace_hoprice = Scatter(\n",
    "    x=df_boston_data.index,\n",
    "    y=df_boston_data['HOPRICE'],\n",
    "    name='HousingPrice',\n",
    "    mode='markers')\n",
    "\n",
    "# line for b-val/mean\n",
    "trace_mhoprice = Scatter(\n",
    "    x=[0, df_boston_data.shape[0]],\n",
    "    y=[m_hoprice, m_hoprice],\n",
    "    name='Mean Values %.2f' % m_hoprice,\n",
    "    mode='lines',\n",
    "    line=dict(\n",
    "        width=3))\n",
    "\n",
    "# create the data\n",
    "data = [trace_hoprice, trace_mhoprice]\n",
    "\n",
    "# layouting and plot\n",
    "layout = Layout(\n",
    "    title='Housing Prices vs Mean Values as Best Fit',\n",
    "    xaxis=dict(title='house index'),\n",
    "    yaxis=dict(title='house price $1000'),\n",
    "    showlegend=True)\n",
    "\n",
    "fig = Figure(data=data, layout=layout)\n",
    "py.iplot(fig, filename='housing-price-scatter')"
   ]
  },
  {
   "cell_type": "markdown",
   "metadata": {},
   "source": [
    "### Calculate SST (Total of Squared Error) using Mean Best Fit <a name=\"SST\"></a>\n",
    "\n",
    "To evaluate the values of the current best fit here, we need to calculate how each elements of the dataset variates from our current best fit line using **Mean** best fit. To do this, we just need to find the $\\sum (y_i - \\overline y)^2$ and sum all of them with $\\overline y$ is the **mean** or *b*. \n",
    "\n",
    "Code wise, to do this, let's create another dataframe which comprised of *y*, residual $(y_i - \\overline y)$, and squared of the residual $(y_i - \\overline y)^2$."
   ]
  },
  {
   "cell_type": "code",
   "execution_count": 29,
   "metadata": {},
   "outputs": [
    {
     "data": {
      "text/html": [
       "<div>\n",
       "<style>\n",
       "    .dataframe thead tr:only-child th {\n",
       "        text-align: right;\n",
       "    }\n",
       "\n",
       "    .dataframe thead th {\n",
       "        text-align: left;\n",
       "    }\n",
       "\n",
       "    .dataframe tbody tr th {\n",
       "        vertical-align: top;\n",
       "    }\n",
       "</style>\n",
       "<table border=\"1\" class=\"dataframe\">\n",
       "  <thead>\n",
       "    <tr style=\"text-align: right;\">\n",
       "      <th></th>\n",
       "      <th>HOPRICE</th>\n",
       "      <th>RES</th>\n",
       "      <th>RES2</th>\n",
       "    </tr>\n",
       "  </thead>\n",
       "  <tbody>\n",
       "    <tr>\n",
       "      <th>0</th>\n",
       "      <td>24.0</td>\n",
       "      <td>1.467194</td>\n",
       "      <td>2.152657</td>\n",
       "    </tr>\n",
       "    <tr>\n",
       "      <th>1</th>\n",
       "      <td>21.6</td>\n",
       "      <td>-0.932806</td>\n",
       "      <td>0.870128</td>\n",
       "    </tr>\n",
       "    <tr>\n",
       "      <th>2</th>\n",
       "      <td>34.7</td>\n",
       "      <td>12.167194</td>\n",
       "      <td>148.040602</td>\n",
       "    </tr>\n",
       "    <tr>\n",
       "      <th>3</th>\n",
       "      <td>33.4</td>\n",
       "      <td>10.867194</td>\n",
       "      <td>118.095898</td>\n",
       "    </tr>\n",
       "    <tr>\n",
       "      <th>4</th>\n",
       "      <td>36.2</td>\n",
       "      <td>13.667194</td>\n",
       "      <td>186.792183</td>\n",
       "    </tr>\n",
       "  </tbody>\n",
       "</table>\n",
       "</div>"
      ],
      "text/plain": [
       "   HOPRICE        RES        RES2\n",
       "0     24.0   1.467194    2.152657\n",
       "1     21.6  -0.932806    0.870128\n",
       "2     34.7  12.167194  148.040602\n",
       "3     33.4  10.867194  118.095898\n",
       "4     36.2  13.667194  186.792183"
      ]
     },
     "execution_count": 29,
     "metadata": {},
     "output_type": "execute_result"
    }
   ],
   "source": [
    "# setup the first column - HOPRICE\n",
    "df_calc_sst = pd.DataFrame(data=df_boston_data['HOPRICE'])\n",
    "# df_calc_sse.loc['MEAN'] = df_calc_sse.mean()\n",
    "\n",
    "# add the residual - RES\n",
    "df_calc_sst['RES'] = df_calc_sst['HOPRICE'] - df_calc_sst['HOPRICE'].mean()\n",
    "\n",
    "# add the squared residual -RES2\n",
    "df_calc_sst['RES2'] = df_calc_sst['RES'] ** 2\n",
    "\n",
    "# check\n",
    "df_calc_sst.head()"
   ]
  },
  {
   "cell_type": "code",
   "execution_count": 30,
   "metadata": {},
   "outputs": [
    {
     "data": {
      "text/plain": [
       "42716.29541501979"
      ]
     },
     "execution_count": 30,
     "metadata": {},
     "output_type": "execute_result"
    }
   ],
   "source": [
    "val_sse = np.sum(df_calc_sst['RES2'])\n",
    "val_sse"
   ]
  },
  {
   "cell_type": "markdown",
   "metadata": {},
   "source": [
    "### SST vs SSR vs SSE <a name=\"SSTSSRSSE\"></a>\n",
    "\n",
    "Now it is known that the sum of squared residual is **42716.2954** which is now addressed as SST. Later, this SST will be used to be the basic value for the performance benchmarking of our linear best fit model following this simple law:\n",
    "\n",
    "$$ SST =  SSR + SSE $$\n",
    "\n",
    "which *SST* is the total of squared error from using mean fit, and *SSE* will be the new sum of squared error from using our linear regression model. *SSR* will be the value to look up to since it represents how **much our linear regression eliminates error from the dataset**. \n",
    "\n",
    "Now let's do one of the most interesting in preprocessing the dataset, finding the best features."
   ]
  },
  {
   "cell_type": "markdown",
   "metadata": {},
   "source": [
    "### Finding the Best Features <a name=\"best_feat\"></a>\n",
    "\n",
    "Finding the best features, by meaning, is to find the best correlated features which contributes to the dependent variable D.V which in this case **HOPRICE**. Obvious selection, would be to guess the best feature and for the sake of it, let's pick feature **RM** number of rooms in the house. Let's start by visualizing X-Y scattered plot with **RM** for the X-axis and **HOPRICE** for the Y-axis."
   ]
  },
  {
   "cell_type": "code",
   "execution_count": 31,
   "metadata": {
    "scrolled": false
   },
   "outputs": [
    {
     "data": {
      "text/html": [
       "<iframe id=\"igraph\" scrolling=\"no\" style=\"border:none;\" seamless=\"seamless\" src=\"https://plot.ly/~yanuart.adityan/10.embed\" height=\"525px\" width=\"100%\"></iframe>"
      ],
      "text/plain": [
       "<plotly.tools.PlotlyDisplay object>"
      ]
     },
     "execution_count": 31,
     "metadata": {},
     "output_type": "execute_result"
    }
   ],
   "source": [
    "trace_rm = Scatter(\n",
    "    x=df_boston_data['RM'],\n",
    "    y=df_boston_data['HOPRICE'],\n",
    "    name='room vs house price',\n",
    "    mode='markers')\n",
    "\n",
    "# layouting and plot\n",
    "layout = Layout(\n",
    "    title='Number of Rooms vs Housing Prices',\n",
    "    xaxis=dict(title='number of rooms'),\n",
    "    yaxis=dict(title='house price $1000'),\n",
    "    showlegend=True)\n",
    "\n",
    "fig = Figure(data=[trace_rm], layout=layout)\n",
    "py.iplot(fig, filename='housing-price-vs-rooms-scatter')"
   ]
  },
  {
   "cell_type": "markdown",
   "metadata": {},
   "source": [
    "Here as you can see there is a trend between growing number of rooms to the increaing price of the house. The trend here can be found by Linear Regression which gives us the best coefficient *m* and *intercept* which satisfy equation in [here](#vis1) for given independent feature. \n",
    "\n",
    "To do this, let's create an object of LinearRegression class from Scikit-Learn.\n"
   ]
  },
  {
   "cell_type": "code",
   "execution_count": 46,
   "metadata": {
    "collapsed": true
   },
   "outputs": [],
   "source": [
    "# create an object for Linear Regression\n",
    "from sklearn.linear_model import LinearRegression\n",
    "lreg = LinearRegression()"
   ]
  },
  {
   "cell_type": "markdown",
   "metadata": {},
   "source": [
    "Now, prepare the feature data **RM** and target **HOPRICE**, and split the training and test ratio by 0.8 which means 80% of all sample data will be for training to get best fit line and 20% for the test. "
   ]
  },
  {
   "cell_type": "code",
   "execution_count": 47,
   "metadata": {},
   "outputs": [
    {
     "name": "stdout",
     "output_type": "stream",
     "text": [
      "We have training data with (404,) number or rows\n",
      "We have test data with (102,) number of rows\n"
     ]
    }
   ],
   "source": [
    "# split the training and test\n",
    "from sklearn import cross_validation\n",
    "x_train, x_test, y_train, y_test = cross_validation.train_test_split(df_boston_data['RM'], \n",
    "                                                                     df_boston_data['HOPRICE'],\n",
    "                                                                     train_size=0.8)\n",
    "\n",
    "print('We have training data with {} number or rows'.format(x_train.shape))\n",
    "print('We have test data with {} number of rows'.format(x_test.shape))"
   ]
  },
  {
   "cell_type": "markdown",
   "metadata": {},
   "source": [
    "Then, we can use the training set *x_train* and *y_train* as input to the fitting method from the *lreg* object."
   ]
  },
  {
   "cell_type": "code",
   "execution_count": 55,
   "metadata": {},
   "outputs": [
    {
     "data": {
      "text/plain": [
       "array([ 20. ,  34.9,  13.1,  23.9,  22.6,  23.1,  18.4,  19.5,  19.7,\n",
       "        36.1,  29.1,  32. ,  11.5,  24.4,  18.2,  23.2,  15. ,  21.9,\n",
       "        15. ,  11.8,  19.7,  21.4,  11.8,  24.3,  29. ,  13.1,  14.3,\n",
       "        13.3,  22. ,  25. ,  10.9,  20.1,  24.5,  22.6,   5.6,  13.9,\n",
       "        50. ,  44. ,  20.1,  22.4,  13.1,  22.6,  24.4,  16. ,  14.1,\n",
       "        13.8,  19.6,  23.9,  19.6,  26.2,  15.2,  13.5,  21.5,  50. ,\n",
       "        28.1,  27. ,  22.5,  41.7,  21.6,  19.5,  13.1,  15.6,  19.3,\n",
       "        24.8,   7. ,  22.9,  19.8,  19.3,  15.4,  31.7,  17.1,  20.1,\n",
       "        19.6,  46. ,  21.2,  20.5,  24.4,  24.1,  14.4,  13.3,  22.5,\n",
       "        31.5,  19.3,  30.3,  10.2,  10.5,  14.9,  32.7,  19.4,  17.4,\n",
       "        50. ,  31.6,  29. ,   7. ,  48.5,  29.8,  19.4,  15.6,  14.9,\n",
       "        19.8,  23.1,  36.2,  14.8,  25. ,  24.4,  19.9,  10.5,  21.7,\n",
       "        20.4,  19.3,  43.8,  12.1,  18.6,  30.1,  20.6,  23. ,  20.3,\n",
       "        13.6,  20.9,  22. ,  22.8,  39.8,  22.6,  17.8,   8.1,  18.5,\n",
       "        22.8,  12.6,  21. ,  50. ,  41.3,   7.2,  24.7,  37.6,   8.4,\n",
       "        31.1,  14.1,  23.5,  18.5,  19.6,   5. ,  18.4,  10.2,  18.1,\n",
       "        11.9,  24.7,  22.2,  29.4,  11.3,  32.9,  28. ,  20.3,  29.9,\n",
       "        20.1,  23.1,  22.2,  50. ,  26.6,  18.8,  14.9,  21.7,  30.1,\n",
       "        14.6,   7.2,  23.3,  22. ,  19. ,  19.4,  15.2,  32.4,  24.3,\n",
       "        20.6,  50. ,  30.7,  23.3,  36. ,  20. ,  20.6,  50. ,  19.4,\n",
       "        29.6,  20.5,  37. ,  22.7,  18.6,  17.4,  26.4,  18.3,  28.7,\n",
       "        43.5,  35.4,  22. ,  19.1,  33.2,  50. ,  26.5,  22.2,  18.4,\n",
       "        23.9,  31.2,  20.3,  23.3,  11. ,  30.5,  23.6,  16.6,  13.5,\n",
       "        14.1,  22.5,  20. ,  23.6,  33.1,  19. ,  31.6,  16.1,  22.9,\n",
       "        17.5,  20.6,  31.5,  35.4,  42.8,  21.1,  24.1,  16.8,  15.6,\n",
       "        17.8,  23.7,   9.5,  15.6,  15. ,  24. ,   8.3,  27.5,  27.9,\n",
       "        22.2,  17.2,  17.7,  19.9,  22.3,  23.2,  21.8,  10.2,  50. ,\n",
       "        28.6,  20.5,  14. ,  37.3,  27.1,  28.5,  22.8,  20.2,  17.5,\n",
       "        33.8,  23.7,  44.8,  18.5,  16.3,  24.5,  23.8,  21.4,  33. ,\n",
       "        19.9,  19.5,  20.6,  16.5,  10.4,  12.7,  34.9,   7.4,  32.2,\n",
       "        24.3,  36.5,  21.4,  18.2,  16.1,  29.8,  36.4,  16.2,  18. ,\n",
       "        26.4,  21.2,  20.9,  21.2,  20.4,  16.4,  24.8,  13.4,  20.4,\n",
       "        22.9,  22. ,  21.6,  12.5,  17.5,  22.1,  15.1,  14.5,  50. ,\n",
       "        33.3,  13.6,  22.2,  21.1,  17.1,  12.7,  20.7,  29.6,  16.8,\n",
       "        21.4,  23.7,  14.6,  21.7,  14.4,  25. ,  23.8,  28.4,   8.8,\n",
       "        20.4,  17.6,  26.7,  22.8,  14.2,  19.3,   6.3,   7.2,  24. ,\n",
       "        23. ,  17.8,  25. ,  50. ,  28.2,  23.1,  17.4,  18.7,  13.4,\n",
       "         7.5,  17.8,  16.7,  21.5,  24.6,  23.8,  20.7,  14.5,  24.7,\n",
       "        18.7,  38.7,  21. ,  28.7,  13.3,  21.2,  22.3,  19.8,  17.3,\n",
       "        17.2,   8.4,  16.5,  24.8,  24.2,  32.5,  22. ,  22.4,  21.9,\n",
       "        19.4,  19.9,   8.8,  13.8,  32. ,  21.7,  21. ,  42.3,  10.9,\n",
       "        18.7,  34.6,  25.2,  23.1,  20.1,  18.2,  16.1,  20.8,  27.9,\n",
       "        15.6,  19.4,   8.5,  19.1,  13.4,  37.2,  21.8,  20.3,  25. ,\n",
       "        23. ,  33.2,  43.1,  12.8,  21.7,  29.1,  50. ,  10.4,  18.9,\n",
       "        12.3,  18.9,   9.6,  15.4,  28.7,  15.3,  22.7,  18.5])"
      ]
     },
     "execution_count": 55,
     "metadata": {},
     "output_type": "execute_result"
    }
   ],
   "source": [
    "# call the fit method and pass the x and y from the training\n",
    "lreg.fit([x_train], [y_train])"
   ]
  },
  {
   "cell_type": "code",
   "execution_count": 32,
   "metadata": {},
   "outputs": [
    {
     "data": {
      "text/plain": [
       "<matplotlib.axes._subplots.AxesSubplot at 0x23e9e7892b0>"
      ]
     },
     "execution_count": 32,
     "metadata": {},
     "output_type": "execute_result"
    },
    {
     "data": {
      "image/png": "[encoded data removed]",
      "text/plain": [
       "<matplotlib.figure.Figure at 0x23e98a176a0>"
      ]
     },
     "metadata": {},
     "output_type": "display_data"
    }
   ],
   "source": [
    "sns.regplot(x='RM', y='HOPRICE', data=df_boston_data)"
   ]
  },
  {
   "cell_type": "code",
   "execution_count": 33,
   "metadata": {},
   "outputs": [
    {
     "data": {
      "text/plain": [
       "<seaborn.axisgrid.PairGrid at 0x23e9e8cbeb8>"
      ]
     },
     "execution_count": 33,
     "metadata": {},
     "output_type": "execute_result"
    },
    {
     "data": {
      "image/png": "[encoded data removed]",
      "text/plain": [
       "<matplotlib.figure.Figure at 0x23e9e90e898>"
      ]
     },
     "metadata": {},
     "output_type": "display_data"
    }
   ],
   "source": [
    "sns.pairplot(df_boston_data[['RM', 'HOPRICE']])"
   ]
  },
  {
   "cell_type": "code",
   "execution_count": null,
   "metadata": {
    "collapsed": true
   },
   "outputs": [],
   "source": []
  }
 ],
 "metadata": {
  "kernelspec": {
   "display_name": "Python 3",
   "language": "python",
   "name": "python3"
  },
  "language_info": {
   "codemirror_mode": {
    "name": "ipython",
    "version": 3
   },
   "file_extension": ".py",
   "mimetype": "text/x-python",
   "name": "python",
   "nbconvert_exporter": "python",
   "pygments_lexer": "ipython3",
   "version": "3.6.3"
  }
 },
 "nbformat": 4,
 "nbformat_minor": 2
}
