{
 "cells": [
  {
   "cell_type": "markdown",
   "metadata": {},
   "source": [
    "# EDA Boston House Price\n",
    "\n",
    "----\n",
    "\n",
    "### Table of Contents\n",
    "\n",
    "1. [Introduction to the Dataset & Features](#introduction)\n",
    "2. [Loading the Dataset](#load)\n",
    "3. [Understand the Dataset](#understand)\n",
    "4. [Understand the Datatypes](#dtypes)\n",
    "5. [Visualizing the DV and IVs](#vis1)\n",
    "6. [Calculate SST](#sst)\n",
    "7. [SST vs SSR vs SSE](#SSTSSRSSE)\n",
    "8. [Univariate Linear Regression](#best_feat)\n",
    "9. [Summary of Univariate LinReg](#summ1)\n",
    "10.[Multiple Linear Regression](#mlreg)"
   ]
  },
  {
   "cell_type": "markdown",
   "metadata": {},
   "source": [
    "### Introduction & Features <a name=\"introduction\"></a>\n",
    "\n",
    "A project for learning few optimal solutions to predict housing prices using Boston Housing Prices, uses supervised learning with multilinear regression (not to be confused with multivariate regression). The provided data by the SKLearn (Boston House) is rather clean and fit for purpose of learning. In practices, there might be a big chance that the data is less useful and preprocessing is rather needed. This project shall not focus on preprocessing such as, interpolate missing values, etc.\n",
    "\n",
    "There are 13 features are gonna be used according to the database which you can find further details from [here](https://www.kaggle.com/c/boston-housing) and how to load it with SKLearn from [here](http://scikit-learn.org/stable/modules/generated/sklearn.datasets.load_boston.html#sklearn.datasets.load_boston).\n",
    "\n",
    "(As quoted from the DESCR attributes of the dataset) All attribute Information in order are:\n",
    "* CRIM     per capita crime rate by town\n",
    "* ZN       proportion of residential land zoned for lots over 25,000 sq.ft.\n",
    "* INDUS    proportion of non-retail business acres per town\n",
    "* CHAS     Charles River dummy variable (= 1 if tract bounds river; 0 otherwise)\n",
    "* NOX      nitric oxides concentration (parts per 10 million)\n",
    "* RM       average number of rooms per dwelling\n",
    "* AGE      proportion of owner-occupied units built prior to 1940\n",
    "* DIS      weighted distances to five Boston employment centres\n",
    "* RAD      index of accessibility to radial highways\n",
    "* TAX      full-value property-tax rate per USD 10,000\n",
    "* PTRATIO  pupil-teacher ratio by town\n",
    "* B        1000(Bk - 0.63)^2 where Bk is the proportion of blacks by town\n",
    "* LSTAT    Lower status of the population\n",
    "* MEDV     Median value of owner-occupied homes in USD 1000's\n",
    "\n",
    "In the project, each I.V. features versus D.V. correlations will be evaluated to see how relevant they are to build the best predictor. "
   ]
  },
  {
   "cell_type": "markdown",
   "metadata": {},
   "source": [
    "### Loading the Dataset <a name=\"load\"></a>\n",
    "\n",
    "The dataset is available through [Kaggle](www.kaggle.com) but since we're gonna use [SKLearn](http://scikit-learn.org/stable/modules/generated/sklearn.datasets.load_boston.html#sklearn.datasets.load_boston) anyway, so I picked the latter."
   ]
  },
  {
   "cell_type": "code",
   "execution_count": 230,
   "metadata": {
    "collapsed": true
   },
   "outputs": [],
   "source": [
    "import numpy as np\n",
    "import pandas as pd\n",
    "\n",
    "# plotting\n",
    "import seaborn as sns\n",
    "import matplotlib.pyplot as plt\n",
    "import plotly.plotly as py\n",
    "from plotly.graph_objs import *\n",
    "\n",
    "# scikit-learn\n",
    "from sklearn.datasets import load_boston\n",
    "\n",
    "# matplotlib inline\n",
    "%matplotlib inline"
   ]
  },
  {
   "cell_type": "markdown",
   "metadata": {},
   "source": [
    "### Understand the Dataset <a name=\"understand\"></a>\n",
    "\n",
    "Make sure you understand what informations are provided by the dataset. Read through all the definitions of the features and the target (outcome). Since I will use Pandas as dataframe for most of the data, we need to build the dataframe as the first step. Make sure to visualize it in a good way in such you get the big picture of how the data looks like."
   ]
  },
  {
   "cell_type": "code",
   "execution_count": 231,
   "metadata": {},
   "outputs": [
    {
     "data": {
      "text/html": [
       "<div>\n",
       "<style>\n",
       "    .dataframe thead tr:only-child th {\n",
       "        text-align: right;\n",
       "    }\n",
       "\n",
       "    .dataframe thead th {\n",
       "        text-align: left;\n",
       "    }\n",
       "\n",
       "    .dataframe tbody tr th {\n",
       "        vertical-align: top;\n",
       "    }\n",
       "</style>\n",
       "<table border=\"1\" class=\"dataframe\">\n",
       "  <thead>\n",
       "    <tr style=\"text-align: right;\">\n",
       "      <th></th>\n",
       "      <th>CRIM</th>\n",
       "      <th>ZN</th>\n",
       "      <th>INDUS</th>\n",
       "      <th>CHAS</th>\n",
       "      <th>NOX</th>\n",
       "      <th>RM</th>\n",
       "      <th>AGE</th>\n",
       "      <th>DIS</th>\n",
       "      <th>RAD</th>\n",
       "      <th>TAX</th>\n",
       "      <th>PTRATIO</th>\n",
       "      <th>B</th>\n",
       "      <th>LSTAT</th>\n",
       "      <th>HOPRICE</th>\n",
       "    </tr>\n",
       "  </thead>\n",
       "  <tbody>\n",
       "    <tr>\n",
       "      <th>0</th>\n",
       "      <td>0.00632</td>\n",
       "      <td>18.0</td>\n",
       "      <td>2.31</td>\n",
       "      <td>0.0</td>\n",
       "      <td>0.538</td>\n",
       "      <td>6.575</td>\n",
       "      <td>65.2</td>\n",
       "      <td>4.0900</td>\n",
       "      <td>1.0</td>\n",
       "      <td>296.0</td>\n",
       "      <td>15.3</td>\n",
       "      <td>396.90</td>\n",
       "      <td>4.98</td>\n",
       "      <td>24.0</td>\n",
       "    </tr>\n",
       "    <tr>\n",
       "      <th>1</th>\n",
       "      <td>0.02731</td>\n",
       "      <td>0.0</td>\n",
       "      <td>7.07</td>\n",
       "      <td>0.0</td>\n",
       "      <td>0.469</td>\n",
       "      <td>6.421</td>\n",
       "      <td>78.9</td>\n",
       "      <td>4.9671</td>\n",
       "      <td>2.0</td>\n",
       "      <td>242.0</td>\n",
       "      <td>17.8</td>\n",
       "      <td>396.90</td>\n",
       "      <td>9.14</td>\n",
       "      <td>21.6</td>\n",
       "    </tr>\n",
       "    <tr>\n",
       "      <th>2</th>\n",
       "      <td>0.02729</td>\n",
       "      <td>0.0</td>\n",
       "      <td>7.07</td>\n",
       "      <td>0.0</td>\n",
       "      <td>0.469</td>\n",
       "      <td>7.185</td>\n",
       "      <td>61.1</td>\n",
       "      <td>4.9671</td>\n",
       "      <td>2.0</td>\n",
       "      <td>242.0</td>\n",
       "      <td>17.8</td>\n",
       "      <td>392.83</td>\n",
       "      <td>4.03</td>\n",
       "      <td>34.7</td>\n",
       "    </tr>\n",
       "    <tr>\n",
       "      <th>3</th>\n",
       "      <td>0.03237</td>\n",
       "      <td>0.0</td>\n",
       "      <td>2.18</td>\n",
       "      <td>0.0</td>\n",
       "      <td>0.458</td>\n",
       "      <td>6.998</td>\n",
       "      <td>45.8</td>\n",
       "      <td>6.0622</td>\n",
       "      <td>3.0</td>\n",
       "      <td>222.0</td>\n",
       "      <td>18.7</td>\n",
       "      <td>394.63</td>\n",
       "      <td>2.94</td>\n",
       "      <td>33.4</td>\n",
       "    </tr>\n",
       "    <tr>\n",
       "      <th>4</th>\n",
       "      <td>0.06905</td>\n",
       "      <td>0.0</td>\n",
       "      <td>2.18</td>\n",
       "      <td>0.0</td>\n",
       "      <td>0.458</td>\n",
       "      <td>7.147</td>\n",
       "      <td>54.2</td>\n",
       "      <td>6.0622</td>\n",
       "      <td>3.0</td>\n",
       "      <td>222.0</td>\n",
       "      <td>18.7</td>\n",
       "      <td>396.90</td>\n",
       "      <td>5.33</td>\n",
       "      <td>36.2</td>\n",
       "    </tr>\n",
       "  </tbody>\n",
       "</table>\n",
       "</div>"
      ],
      "text/plain": [
       "      CRIM    ZN  INDUS  CHAS    NOX     RM   AGE     DIS  RAD    TAX  \\\n",
       "0  0.00632  18.0   2.31   0.0  0.538  6.575  65.2  4.0900  1.0  296.0   \n",
       "1  0.02731   0.0   7.07   0.0  0.469  6.421  78.9  4.9671  2.0  242.0   \n",
       "2  0.02729   0.0   7.07   0.0  0.469  7.185  61.1  4.9671  2.0  242.0   \n",
       "3  0.03237   0.0   2.18   0.0  0.458  6.998  45.8  6.0622  3.0  222.0   \n",
       "4  0.06905   0.0   2.18   0.0  0.458  7.147  54.2  6.0622  3.0  222.0   \n",
       "\n",
       "   PTRATIO       B  LSTAT  HOPRICE  \n",
       "0     15.3  396.90   4.98     24.0  \n",
       "1     17.8  396.90   9.14     21.6  \n",
       "2     17.8  392.83   4.03     34.7  \n",
       "3     18.7  394.63   2.94     33.4  \n",
       "4     18.7  396.90   5.33     36.2  "
      ]
     },
     "execution_count": 231,
     "metadata": {},
     "output_type": "execute_result"
    }
   ],
   "source": [
    "# load\n",
    "boston = load_boston()\n",
    "\n",
    "# build the dataframe for all I.Vs (boston['data']) or boston.data\n",
    "df_boston_data = pd.DataFrame(boston['data'], columns=boston['feature_names'])\n",
    "\n",
    "# concatenate the D.V (boston['target']) and name id 'HOPRICE'\n",
    "df_boston_data['HOPRICE'] = pd.Series(boston['target'])\n",
    "df_boston_data.head()"
   ]
  },
  {
   "cell_type": "markdown",
   "metadata": {},
   "source": [
    "Now we see **HOPRICE** is part of the dataset and we're good to go. Remember, in the real-world data, we mostly will encounter significantly more random data and you would likely need a lot of preprocessing before you see the same structure as shown above.\n",
    "\n",
    "### Understand the Datatypes <a name=\"dtypes\"></a>\n",
    "\n",
    "Pandas is capable of easily giving us informations on each features datatype. DataFrame will infer automatically the datatypes and what we're gonna do is to see their types. What we want from this step is to differentiate their types according to the proper statistic types as explained in [here](https://en.wikipedia.org/wiki/Statistical_data_type). As we see below, everything are neither Categorical or Binary, but instead, all are continuous values and as expected the **HOPRICE** itself is not a Categorical thus we're not gonna do any Logistic Regression to create our best fit as Linear Regression (hopefully) will sufficient."
   ]
  },
  {
   "cell_type": "code",
   "execution_count": 232,
   "metadata": {},
   "outputs": [
    {
     "data": {
      "text/plain": [
       "CRIM       float64\n",
       "ZN         float64\n",
       "INDUS      float64\n",
       "CHAS       float64\n",
       "NOX        float64\n",
       "RM         float64\n",
       "AGE        float64\n",
       "DIS        float64\n",
       "RAD        float64\n",
       "TAX        float64\n",
       "PTRATIO    float64\n",
       "B          float64\n",
       "LSTAT      float64\n",
       "HOPRICE    float64\n",
       "dtype: object"
      ]
     },
     "execution_count": 232,
     "metadata": {},
     "output_type": "execute_result"
    }
   ],
   "source": [
    "df_boston_data.dtypes"
   ]
  },
  {
   "cell_type": "markdown",
   "metadata": {},
   "source": [
    "\n",
    "### Start Visualizing D.V without any inputting I.Vs. <a name=\"vis1\"></a>\n",
    "\n",
    "We ought to visualize the relation between I.Vs (all features) to the D.V to see how significant their impacts to the D.V. That can be done by manually visualizing them and see a pattern that can be fit by our model, which in this case Linear Regression best fit model. However, let's visualize the **HOPRICE** alone and see how we will see the best fit naturally using **Mean** of the data.\n",
    "\n",
    "To give a better understanding, an equation for linear line is given by:\n",
    "\n",
    "$$ f(x) = mx + b + e$$\n",
    "\n",
    "Given the linear equation, *m* is the slope or gradient, or later will be addressed as *coefficient* and *b* is the y-interceptor and residual error as *e*. If there's no valid *x* variables and no residual error, then best fit line would be:\n",
    "\n",
    "$$ f(0) = b $$\n",
    "\n",
    "This is saying that the most basic way to estimate house price without an independent variable is to start with the *b* which in most cases interpreted as the *mean* values. Here let's calculate the mean value of **HOPRICE** and plot. "
   ]
  },
  {
   "cell_type": "code",
   "execution_count": 233,
   "metadata": {},
   "outputs": [
    {
     "data": {
      "text/plain": [
       "22.532806324110698"
      ]
     },
     "execution_count": 233,
     "metadata": {},
     "output_type": "execute_result"
    }
   ],
   "source": [
    "# calculate mean\n",
    "m_hoprice = df_boston_data['HOPRICE'].mean()\n",
    "m_hoprice"
   ]
  },
  {
   "cell_type": "markdown",
   "metadata": {},
   "source": [
    "\n",
    "Since we're gonna do a lot of visualizations, picking best plotting API is important. Here, best option is to use [Seaborn](https://seaborn.pydata.org/) for correlation plot and but for interactive plot, one of the alternative is [Plotly](https://plot.ly/python/). I will try to use both and later, will use Seaborn more often than others since it is specifically purposed for statistical data visualization.\n",
    "\n"
   ]
  },
  {
   "cell_type": "code",
   "execution_count": 234,
   "metadata": {},
   "outputs": [
    {
     "data": {
      "text/html": [
       "<iframe id=\"igraph\" scrolling=\"no\" style=\"border:none;\" seamless=\"seamless\" src=\"https://plot.ly/~yanuart.adityan/8.embed\" height=\"525px\" width=\"100%\"></iframe>"
      ],
      "text/plain": [
       "<plotly.tools.PlotlyDisplay object>"
      ]
     },
     "execution_count": 234,
     "metadata": {},
     "output_type": "execute_result"
    }
   ],
   "source": [
    "\"\"\"PLOTLY.js\"\"\"\n",
    "\n",
    "# scatter plots for housing prices\n",
    "trace_hoprice = Scatter(\n",
    "    x=df_boston_data.index,\n",
    "    y=df_boston_data['HOPRICE'],\n",
    "    name='HousingPrice',\n",
    "    mode='markers')\n",
    "\n",
    "# line for b-val/mean\n",
    "trace_mhoprice = Scatter(\n",
    "    x=[0, df_boston_data.shape[0]],\n",
    "    y=[m_hoprice, m_hoprice],\n",
    "    name='Mean Values %.2f' % m_hoprice,\n",
    "    mode='lines',\n",
    "    line=dict(\n",
    "        width=3))\n",
    "\n",
    "# create the data\n",
    "data = [trace_hoprice, trace_mhoprice]\n",
    "\n",
    "# layouting and plot\n",
    "layout = Layout(\n",
    "    title='Housing Prices vs Mean Values as Best Fit',\n",
    "    xaxis=dict(title='house index'),\n",
    "    yaxis=dict(title='house price $1000'),\n",
    "    showlegend=True)\n",
    "\n",
    "fig = Figure(data=data, layout=layout)\n",
    "py.iplot(fig, filename='housing-price-scatter')"
   ]
  },
  {
   "cell_type": "markdown",
   "metadata": {},
   "source": [
    "### Calculate SST (Total of Squared Error) using Mean Best Fit <a name=\"SST\"></a>\n",
    "\n",
    "To evaluate the values of the current best fit here, we need to calculate how each elements of the dataset variates from our current best fit line using **Mean** best fit. To do this, we just need to find the $\\sum (y_i - \\overline y)^2$ and sum all of them with $\\overline y$ is the **mean** or *b*. \n",
    "\n",
    "Code wise, to do this, let's create another dataframe which comprised of *y*, residual $(y_i - \\overline y)$, and squared of the residual $(y_i - \\overline y)^2$."
   ]
  },
  {
   "cell_type": "code",
   "execution_count": 235,
   "metadata": {},
   "outputs": [
    {
     "data": {
      "text/html": [
       "<div>\n",
       "<style>\n",
       "    .dataframe thead tr:only-child th {\n",
       "        text-align: right;\n",
       "    }\n",
       "\n",
       "    .dataframe thead th {\n",
       "        text-align: left;\n",
       "    }\n",
       "\n",
       "    .dataframe tbody tr th {\n",
       "        vertical-align: top;\n",
       "    }\n",
       "</style>\n",
       "<table border=\"1\" class=\"dataframe\">\n",
       "  <thead>\n",
       "    <tr style=\"text-align: right;\">\n",
       "      <th></th>\n",
       "      <th>HOPRICE</th>\n",
       "      <th>RES</th>\n",
       "      <th>RES2</th>\n",
       "    </tr>\n",
       "  </thead>\n",
       "  <tbody>\n",
       "    <tr>\n",
       "      <th>0</th>\n",
       "      <td>24.0</td>\n",
       "      <td>1.467194</td>\n",
       "      <td>2.152657</td>\n",
       "    </tr>\n",
       "    <tr>\n",
       "      <th>1</th>\n",
       "      <td>21.6</td>\n",
       "      <td>-0.932806</td>\n",
       "      <td>0.870128</td>\n",
       "    </tr>\n",
       "    <tr>\n",
       "      <th>2</th>\n",
       "      <td>34.7</td>\n",
       "      <td>12.167194</td>\n",
       "      <td>148.040602</td>\n",
       "    </tr>\n",
       "    <tr>\n",
       "      <th>3</th>\n",
       "      <td>33.4</td>\n",
       "      <td>10.867194</td>\n",
       "      <td>118.095898</td>\n",
       "    </tr>\n",
       "    <tr>\n",
       "      <th>4</th>\n",
       "      <td>36.2</td>\n",
       "      <td>13.667194</td>\n",
       "      <td>186.792183</td>\n",
       "    </tr>\n",
       "  </tbody>\n",
       "</table>\n",
       "</div>"
      ],
      "text/plain": [
       "   HOPRICE        RES        RES2\n",
       "0     24.0   1.467194    2.152657\n",
       "1     21.6  -0.932806    0.870128\n",
       "2     34.7  12.167194  148.040602\n",
       "3     33.4  10.867194  118.095898\n",
       "4     36.2  13.667194  186.792183"
      ]
     },
     "execution_count": 235,
     "metadata": {},
     "output_type": "execute_result"
    }
   ],
   "source": [
    "# setup the first column - HOPRICE\n",
    "df_calc_sst = pd.DataFrame(data=df_boston_data['HOPRICE'])\n",
    "# df_calc_sse.loc['MEAN'] = df_calc_sse.mean()\n",
    "\n",
    "# add the residual - RES\n",
    "df_calc_sst['RES'] = df_calc_sst['HOPRICE'] - df_calc_sst['HOPRICE'].mean()\n",
    "\n",
    "# add the squared residual -RES2\n",
    "df_calc_sst['RES2'] = df_calc_sst['RES'] ** 2\n",
    "\n",
    "# check\n",
    "df_calc_sst.head()"
   ]
  },
  {
   "cell_type": "code",
   "execution_count": 236,
   "metadata": {},
   "outputs": [
    {
     "data": {
      "text/plain": [
       "42716.29541501979"
      ]
     },
     "execution_count": 236,
     "metadata": {},
     "output_type": "execute_result"
    }
   ],
   "source": [
    "val_sse = np.sum(df_calc_sst['RES2'])\n",
    "val_sse"
   ]
  },
  {
   "cell_type": "markdown",
   "metadata": {},
   "source": [
    "### SST vs SSR vs SSE <a name=\"SSTSSRSSE\"></a>\n",
    "\n",
    "Now it is known that the sum of squared residual is **42716.2954** which is now addressed as SST. Later, this SST will be used to be the basic value for the performance benchmarking of our linear best fit model following this simple law:\n",
    "\n",
    "$$ SST =  SSR + SSE $$\n",
    "\n",
    "which *SST* is the total of squared error from using mean fit, and *SSE* will be the new sum of squared error from using our linear regression model. *SSR* will be the value to look up to since it represents how **much our linear regression eliminates error from the dataset**. \n",
    "\n",
    "Now let's do one of the most interesting in preprocessing the dataset, finding the best features."
   ]
  },
  {
   "cell_type": "markdown",
   "metadata": {},
   "source": [
    "### Univariate Linear Regression <a name=\"best_feat\"></a>\n",
    "\n",
    "Finding the best features, by meaning, is to find the best correlated features which contributes to the dependent variable D.V which in this case **HOPRICE**. Obvious selection, would be to guess the best feature and for the sake of it, let's pick feature **RM** number of rooms in the house. Let's start by visualizing X-Y scattered plot with **RM** for the X-axis and **HOPRICE** for the Y-axis."
   ]
  },
  {
   "cell_type": "code",
   "execution_count": 237,
   "metadata": {
    "scrolled": false
   },
   "outputs": [
    {
     "data": {
      "text/html": [
       "<iframe id=\"igraph\" scrolling=\"no\" style=\"border:none;\" seamless=\"seamless\" src=\"https://plot.ly/~yanuart.adityan/10.embed\" height=\"525px\" width=\"100%\"></iframe>"
      ],
      "text/plain": [
       "<plotly.tools.PlotlyDisplay object>"
      ]
     },
     "execution_count": 237,
     "metadata": {},
     "output_type": "execute_result"
    }
   ],
   "source": [
    "trace_rm = Scatter(\n",
    "    x=df_boston_data['RM'],\n",
    "    y=df_boston_data['HOPRICE'],\n",
    "    name='room vs house price',\n",
    "    mode='markers')\n",
    "\n",
    "# layouting and plot\n",
    "layout = Layout(\n",
    "    title='Number of Rooms vs Housing Prices',\n",
    "    xaxis=dict(title='number of rooms'),\n",
    "    yaxis=dict(title='house price $1000'),\n",
    "    showlegend=True)\n",
    "\n",
    "fig = Figure(data=[trace_rm], layout=layout)\n",
    "py.iplot(fig, filename='housing-price-vs-rooms-scatter')"
   ]
  },
  {
   "cell_type": "markdown",
   "metadata": {},
   "source": [
    "Here as you can see there is a trend between growing number of rooms to the increaing price of the house. The trend here can be found by Linear Regression which gives us the best coefficient *m* and *intercept* which satisfy equation in [here](#vis1) for given independent feature. \n",
    "\n",
    "To do this, let's create an object of LinearRegression class from Scikit-Learn.\n"
   ]
  },
  {
   "cell_type": "code",
   "execution_count": 238,
   "metadata": {
    "collapsed": true
   },
   "outputs": [],
   "source": [
    "# create an object for Linear Regression\n",
    "from sklearn.linear_model import LinearRegression\n",
    "lreg = LinearRegression()"
   ]
  },
  {
   "cell_type": "markdown",
   "metadata": {},
   "source": [
    "Now, prepare the feature data **RM** and target **HOPRICE**, and split the training and test ratio by an arbitrary number of 0.8 which means 80% of all sample data will be for training to get best fit line and 20% for the test. One can say that pick the ratio either 80/20 or 70/30."
   ]
  },
  {
   "cell_type": "code",
   "execution_count": 239,
   "metadata": {},
   "outputs": [
    {
     "name": "stdout",
     "output_type": "stream",
     "text": [
      "We have training data with (404,) number or rows\n",
      "We have test data with (102,) number of rows\n"
     ]
    }
   ],
   "source": [
    "# split the training and test\n",
    "from sklearn import cross_validation\n",
    "x_train, x_test, y_train, y_test = cross_validation.train_test_split(df_boston_data['RM'].values, \n",
    "                                                                     df_boston_data['HOPRICE'].values,\n",
    "                                                                     train_size=0.8)\n",
    "\n",
    "print('We have training data with {} number or rows'.format(x_train.shape))\n",
    "print('We have test data with {} number of rows'.format(x_test.shape))"
   ]
  },
  {
   "cell_type": "markdown",
   "metadata": {},
   "source": [
    "Before we use the splitted training and test data, the *fit* method only accepts 2D array input, thus we need to reshape above set to (*N_samples*, 1) using *reshape*. Then, we can use the training set *x_train* and *y_train* as input to the fitting method from the *lreg* object."
   ]
  },
  {
   "cell_type": "code",
   "execution_count": 240,
   "metadata": {},
   "outputs": [
    {
     "name": "stdout",
     "output_type": "stream",
     "text": [
      "coefficients: 8.9067\n",
      "y-intercept: -33.4557\n"
     ]
    }
   ],
   "source": [
    "# reshape\n",
    "x_train = np.reshape(x_train, (len(x_train), 1))\n",
    "y_train = np.reshape(y_train, (len(y_train), 1))\n",
    "x_test = np.reshape(x_test, (len(x_test), 1))\n",
    "y_test = np.reshape(y_test, (len(y_test), 1))\n",
    "\n",
    "# fit\n",
    "lreg.fit(x_train, y_train)\n",
    "\n",
    "print('coefficients: %.4f' % lreg.coef_)\n",
    "print('y-intercept: %.4f' % lreg.intercept_)"
   ]
  },
  {
   "cell_type": "markdown",
   "metadata": {},
   "source": [
    "Now with known coefficient *m* and y-intercept *b*, the equation shall be:\n",
    "\n",
    "$$ \\hat y = mx + b \\\\\n",
    "\\hat y = 8.7567x - 32.6496 \n",
    "$$\n",
    "\n",
    "The best fit now can be visualize using Seaborn *regplot* function."
   ]
  },
  {
   "cell_type": "code",
   "execution_count": 241,
   "metadata": {},
   "outputs": [
    {
     "data": {
      "text/plain": [
       "Text(0.5,1,'RM vs HOPRICE with f(x)=8.9067x + (-33.4557) best fit')"
      ]
     },
     "execution_count": 241,
     "metadata": {},
     "output_type": "execute_result"
    },
    {
     "data": {
      "image/png": "[encoded data removed]",
      "text/plain": [
       "<matplotlib.figure.Figure at 0x23ea2d05eb8>"
      ]
     },
     "metadata": {},
     "output_type": "display_data"
    }
   ],
   "source": [
    "ax = sns.regplot(x='RM', y='HOPRICE', data=df_boston_data)\n",
    "ax.set_title('RM vs HOPRICE with f(x)=%.4fx + (%.4f) best fit' % (lreg.coef_, lreg.intercept_))"
   ]
  },
  {
   "cell_type": "markdown",
   "metadata": {},
   "source": [
    "### Evaluate the SSE of the Best Fit (Training vs Test)\n",
    "\n",
    "Now that we have the model, we have to predict using both training and test sets. To evaluate the accuracy of the model, we refer back to the SSE of both. Let's predict using both sets:"
   ]
  },
  {
   "cell_type": "code",
   "execution_count": 242,
   "metadata": {},
   "outputs": [
    {
     "data": {
      "text/html": [
       "<div>\n",
       "<style>\n",
       "    .dataframe thead tr:only-child th {\n",
       "        text-align: right;\n",
       "    }\n",
       "\n",
       "    .dataframe thead th {\n",
       "        text-align: left;\n",
       "    }\n",
       "\n",
       "    .dataframe tbody tr th {\n",
       "        vertical-align: top;\n",
       "    }\n",
       "</style>\n",
       "<table border=\"1\" class=\"dataframe\">\n",
       "  <thead>\n",
       "    <tr style=\"text-align: right;\">\n",
       "      <th></th>\n",
       "      <th>XTRAIN</th>\n",
       "      <th>YTRAIN</th>\n",
       "      <th>PREDTRAIN</th>\n",
       "      <th>RES</th>\n",
       "      <th>RES2</th>\n",
       "    </tr>\n",
       "  </thead>\n",
       "  <tbody>\n",
       "    <tr>\n",
       "      <th>0</th>\n",
       "      <td>5.854</td>\n",
       "      <td>10.8</td>\n",
       "      <td>18.683931</td>\n",
       "      <td>-3.731168</td>\n",
       "      <td>13.921611</td>\n",
       "    </tr>\n",
       "    <tr>\n",
       "      <th>1</th>\n",
       "      <td>6.860</td>\n",
       "      <td>29.9</td>\n",
       "      <td>27.644042</td>\n",
       "      <td>5.228943</td>\n",
       "      <td>27.341848</td>\n",
       "    </tr>\n",
       "    <tr>\n",
       "      <th>2</th>\n",
       "      <td>6.140</td>\n",
       "      <td>20.8</td>\n",
       "      <td>21.231239</td>\n",
       "      <td>-1.183860</td>\n",
       "      <td>1.401524</td>\n",
       "    </tr>\n",
       "    <tr>\n",
       "      <th>3</th>\n",
       "      <td>8.337</td>\n",
       "      <td>41.7</td>\n",
       "      <td>40.799195</td>\n",
       "      <td>18.384096</td>\n",
       "      <td>337.974990</td>\n",
       "    </tr>\n",
       "    <tr>\n",
       "      <th>4</th>\n",
       "      <td>6.072</td>\n",
       "      <td>14.5</td>\n",
       "      <td>20.625586</td>\n",
       "      <td>-1.789513</td>\n",
       "      <td>3.202358</td>\n",
       "    </tr>\n",
       "  </tbody>\n",
       "</table>\n",
       "</div>"
      ],
      "text/plain": [
       "   XTRAIN  YTRAIN  PREDTRAIN        RES        RES2\n",
       "0   5.854    10.8  18.683931  -3.731168   13.921611\n",
       "1   6.860    29.9  27.644042   5.228943   27.341848\n",
       "2   6.140    20.8  21.231239  -1.183860    1.401524\n",
       "3   8.337    41.7  40.799195  18.384096  337.974990\n",
       "4   6.072    14.5  20.625586  -1.789513    3.202358"
      ]
     },
     "execution_count": 242,
     "metadata": {},
     "output_type": "execute_result"
    }
   ],
   "source": [
    "# predict train\n",
    "pred_train = lreg.predict(x_train)\n",
    "\n",
    "# create dataframe to show\n",
    "df_result = pd.DataFrame(data=np.hstack((x_train, y_train, pred_train)), columns=['XTRAIN', 'YTRAIN', 'PREDTRAIN'])\n",
    "\n",
    "# find error (RES) and RES**2\n",
    "df_result['RES'] = df_result['PREDTRAIN'] - df_result['YTRAIN'].mean()\n",
    "\n",
    "# add the squared residual -RES2\n",
    "df_result['RES2'] = df_result['RES'] ** 2\n",
    "\n",
    "df_result.head()"
   ]
  },
  {
   "cell_type": "code",
   "execution_count": 243,
   "metadata": {},
   "outputs": [
    {
     "data": {
      "text/html": [
       "<div>\n",
       "<style>\n",
       "    .dataframe thead tr:only-child th {\n",
       "        text-align: right;\n",
       "    }\n",
       "\n",
       "    .dataframe thead th {\n",
       "        text-align: left;\n",
       "    }\n",
       "\n",
       "    .dataframe tbody tr th {\n",
       "        vertical-align: top;\n",
       "    }\n",
       "</style>\n",
       "<table border=\"1\" class=\"dataframe\">\n",
       "  <thead>\n",
       "    <tr style=\"text-align: right;\">\n",
       "      <th></th>\n",
       "      <th>XTEST</th>\n",
       "      <th>YTEST</th>\n",
       "      <th>PREDTEST</th>\n",
       "      <th>RES</th>\n",
       "      <th>RES2</th>\n",
       "    </tr>\n",
       "  </thead>\n",
       "  <tbody>\n",
       "    <tr>\n",
       "      <th>0</th>\n",
       "      <td>5.747</td>\n",
       "      <td>8.5</td>\n",
       "      <td>17.730918</td>\n",
       "      <td>-5.268102</td>\n",
       "      <td>27.752898</td>\n",
       "    </tr>\n",
       "    <tr>\n",
       "      <th>1</th>\n",
       "      <td>7.241</td>\n",
       "      <td>32.7</td>\n",
       "      <td>31.037484</td>\n",
       "      <td>8.038464</td>\n",
       "      <td>64.616908</td>\n",
       "    </tr>\n",
       "    <tr>\n",
       "      <th>2</th>\n",
       "      <td>5.807</td>\n",
       "      <td>22.4</td>\n",
       "      <td>18.265318</td>\n",
       "      <td>-4.733702</td>\n",
       "      <td>22.407932</td>\n",
       "    </tr>\n",
       "    <tr>\n",
       "      <th>3</th>\n",
       "      <td>7.016</td>\n",
       "      <td>50.0</td>\n",
       "      <td>29.033483</td>\n",
       "      <td>6.034463</td>\n",
       "      <td>36.414748</td>\n",
       "    </tr>\n",
       "    <tr>\n",
       "      <th>4</th>\n",
       "      <td>5.895</td>\n",
       "      <td>18.5</td>\n",
       "      <td>19.049105</td>\n",
       "      <td>-3.949915</td>\n",
       "      <td>15.601826</td>\n",
       "    </tr>\n",
       "  </tbody>\n",
       "</table>\n",
       "</div>"
      ],
      "text/plain": [
       "   XTEST  YTEST   PREDTEST       RES       RES2\n",
       "0  5.747    8.5  17.730918 -5.268102  27.752898\n",
       "1  7.241   32.7  31.037484  8.038464  64.616908\n",
       "2  5.807   22.4  18.265318 -4.733702  22.407932\n",
       "3  7.016   50.0  29.033483  6.034463  36.414748\n",
       "4  5.895   18.5  19.049105 -3.949915  15.601826"
      ]
     },
     "execution_count": 243,
     "metadata": {},
     "output_type": "execute_result"
    }
   ],
   "source": [
    "# predict test\n",
    "pred_test = lreg.predict(x_test)\n",
    "\n",
    "# create dataframe to show\n",
    "df_result_test = pd.DataFrame(data=np.hstack((x_test, y_test, pred_test)), columns=['XTEST', 'YTEST', 'PREDTEST'])\n",
    "\n",
    "# find error (RES) and RES**2\n",
    "df_result_test['RES'] = df_result_test['PREDTEST'] - df_result_test['YTEST'].mean()\n",
    "\n",
    "# add the squared residual -RES2\n",
    "df_result_test['RES2'] = df_result_test['RES'] ** 2\n",
    "\n",
    "df_result_test.head()"
   ]
  },
  {
   "cell_type": "markdown",
   "metadata": {},
   "source": [
    "Now calculate the SSE from the both training and test data:"
   ]
  },
  {
   "cell_type": "code",
   "execution_count": 244,
   "metadata": {},
   "outputs": [
    {
     "name": "stdout",
     "output_type": "stream",
     "text": [
      "Sum of Squared Error (SSE) for training dataset is 16150.7868\n",
      "Sum of Squared Error (SSE) for test dataset is 3604.8033\n"
     ]
    }
   ],
   "source": [
    "pred_train_sse = np.sum(df_result['RES2'])\n",
    "pred_test_sse = np.sum(df_result_test['RES2'])\n",
    "\n",
    "print('Sum of Squared Error (SSE) for training dataset is %.4f' % pred_train_sse)\n",
    "print('Sum of Squared Error (SSE) for test dataset is %.4f' % pred_test_sse)"
   ]
  },
  {
   "cell_type": "markdown",
   "metadata": {},
   "source": [
    "We see much more improved here with the current model compared to **SST** of 42716.2954 shown [here](#SSTSSRSSE)."
   ]
  },
  {
   "cell_type": "markdown",
   "metadata": {},
   "source": [
    "### Summary of the Univariate Regression Model <a name=\"summ1\"></a>\n",
    "\n",
    "Now since we have SSE of our linear regression model from both training and test dataset, now we want to summarize of how the **SSR** shall be. Using, training dataset, the **SSR** shall be $SST-SSE$:"
   ]
  },
  {
   "cell_type": "code",
   "execution_count": 245,
   "metadata": {},
   "outputs": [
    {
     "name": "stdout",
     "output_type": "stream",
     "text": [
      "---------------------------------------------Recap---------------------------------------------\n",
      "The total of squared errors (SST) is: 42716.2954\n",
      "The SSR for training data (SSR_Train) is: 26565.5086\n",
      "Given training data, the model is capable to remove 62.1906 percent of error from SST\n",
      "The SSR for test data (SSR_Train) is: 39111.4921\n",
      "Given test data, the model is capable to remove 91.5611 percent of error from SST\n"
     ]
    }
   ],
   "source": [
    "SSR_training = val_sse - pred_train_sse\n",
    "SSR_test = val_sse - pred_test_sse\n",
    "\n",
    "SSR_training_percent = SSR_training/val_sse * 100.0\n",
    "SSR_test_percent = SSR_test/val_sse * 100.0\n",
    "\n",
    "print('---------------------------------------------Recap---------------------------------------------')\n",
    "print('The total of squared errors (SST) is: %.4f' % val_sse)\n",
    "print('The SSR for training data (SSR_Train) is: %.4f' % SSR_training)\n",
    "print('Given training data, the model is capable to remove %.4f percent of error from SST' % SSR_training_percent)\n",
    "print('The SSR for test data (SSR_Train) is: %.4f' % SSR_test)\n",
    "print('Given test data, the model is capable to remove %.4f percent of error from SST' % SSR_test_percent)"
   ]
  },
  {
   "cell_type": "markdown",
   "metadata": {},
   "source": [
    "\n",
    "Well well well, it seems like we have managed to reduce the squared residual errors by almost 90% on the test data just by using number of rooms as a single independent variable. What if we add more? Enter *Multiple Linear Regression*."
   ]
  },
  {
   "cell_type": "markdown",
   "metadata": {},
   "source": [
    "### Multiple Linear Regression <a name=\"mlreg\"></a>"
   ]
  },
  {
   "cell_type": "code",
   "execution_count": null,
   "metadata": {
    "collapsed": true
   },
   "outputs": [],
   "source": []
  }
 ],
 "metadata": {
  "kernelspec": {
   "display_name": "Python 3",
   "language": "python",
   "name": "python3"
  },
  "language_info": {
   "codemirror_mode": {
    "name": "ipython",
    "version": 3
   },
   "file_extension": ".py",
   "mimetype": "text/x-python",
   "name": "python",
   "nbconvert_exporter": "python",
   "pygments_lexer": "ipython3",
   "version": "3.6.3"
  }
 },
 "nbformat": 4,
 "nbformat_minor": 2
}
